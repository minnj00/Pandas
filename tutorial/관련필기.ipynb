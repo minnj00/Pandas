{
 "cells": [
  {
   "cell_type": "markdown",
   "id": "824e96c2-28c7-48f0-b570-eb55f7bcbaea",
   "metadata": {},
   "source": [
    "# 가상환경(Virtual Environment)은 파이썬 프로젝트에서 사용되는 패키지들을 격리된 환경에서 관리할 수 있게 해주는 도구입니다. \n",
    "\n",
    "가상환경을 설정하는 이유는 다음과 같습니다:\n",
    "\n",
    "- 패키지 격리 및 관리: 각 프로젝트마다 필요한 패키지들이 다를 수 있습니다. 가상환경을 사용하면 각 프로젝트별로 필요한 패키지를 분리하여 설치하고 관리할 수 있습니다. 이렇게 하면 프로젝트 간의 패키지 충돌을 방지하고, 패키지의 버전 관리도 편리해집니다.\n",
    "\n",
    "- 종속성 관리: 프로젝트에 필요한 패키지들이 서로 의존 관계를 가질 수 있습니다. 가상환경을 사용하면 각 패키지의 종속성을 명확히 정의하고, 프로젝트가 필요로 하는 환경을 구축할 수 있습니다.\n",
    "\n",
    "- 프로젝트 별 파이썬 버전: 여러 프로젝트를 진행할 때, 각 프로젝트가 서로 다른 파이썬 버전을 필요로 할 수 있습니다. 가상환경을 사용하면 각 프로젝트에 맞는 파이썬 버전을 선택하여 사용할 수 있습니다.\n",
    "\n",
    "- 포팅과 이식성: 가상환경을 사용하면 프로젝트를 다른 환경이나 다른 컴퓨터로 쉽게 이식할 수 있습니다. 필요한 패키지와 환경을 가상환경 내에 포함시켜서 전체 프로젝트를 이식하기 용이해집니다.\n",
    "\n",
    "- 시스템 영향 최소화: 시스템 전체에 패키지를 설치하면 시스템에 영향을 주는데, 가상환경을 사용하면 시스템에 영향을 최소화하고 프로젝트 내에서 필요한 패키지만 설치할 수 있습니다.\n",
    "\n",
    "- 가상환경을 사용하여 프로젝트를 관리하면 패키지 관리, 종속성 해결, 버전 관리 등의 장점을 활용하여 보다 체계적이고 격리된 개발 환경을 유지할 수 있습니다.\n",
    "\n",
    "\n",
    "\n",
    "\n"
   ]
  },
  {
   "cell_type": "markdown",
   "id": "0ebbdf01-970c-4c83-ae20-2f33d3cb6648",
   "metadata": {},
   "source": [
    "### 생성된 가상환경 활성화\n",
    "```\n",
    "source myenv/bin/activate\n",
    "```\n",
    "터미널을 재시작하면 자동으로 deactivate가 됨.\n",
    "항상 새로 활성화시키기."
   ]
  },
  {
   "cell_type": "markdown",
   "id": "ce2b662d-035e-408c-9793-78d431af18c5",
   "metadata": {},
   "source": [
    "### 가상환경 해제\n",
    "```\n",
    "deactivated\n",
    "```\n"
   ]
  },
  {
   "cell_type": "code",
   "execution_count": null,
   "id": "5c66a92a-6aad-4892-9038-a9ed99bd8e69",
   "metadata": {},
   "outputs": [],
   "source": []
  }
 ],
 "metadata": {
  "kernelspec": {
   "display_name": "Python 3 (ipykernel)",
   "language": "python",
   "name": "python3"
  },
  "language_info": {
   "codemirror_mode": {
    "name": "ipython",
    "version": 3
   },
   "file_extension": ".py",
   "mimetype": "text/x-python",
   "name": "python",
   "nbconvert_exporter": "python",
   "pygments_lexer": "ipython3",
   "version": "3.11.4"
  }
 },
 "nbformat": 4,
 "nbformat_minor": 5
}
